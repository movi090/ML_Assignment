{
 "cells": [
  {
   "cell_type": "markdown",
   "id": "e28ed5b0",
   "metadata": {},
   "source": [
    "Wholesale customers Data Set"
   ]
  },
  {
   "cell_type": "code",
   "execution_count": 1,
   "id": "65af18ef",
   "metadata": {},
   "outputs": [],
   "source": [
    "import numpy as np\n",
    "import pandas as pd\n",
    "import matplotlib.pyplot as plt\n",
    "import matplotlib as mpl\n",
    "from sklearn.linear_model import Perceptron\n",
    "from sklearn.preprocessing import StandardScaler\n",
    "from sklearn.preprocessing import MultiLabelBinarizer\n",
    "from sklearn.metrics import accuracy_score\n",
    "from sklearn.metrics import classification_report\n",
    "from sklearn.neural_network import MLPClassifier\n",
    "from sklearn.model_selection import train_test_split\n",
    "from sklearn.pipeline import Pipeline\n",
    "from sklearn.decomposition import PCA\n",
    "from sklearn.model_selection import GridSearchCV\n",
    "import warnings\n",
    "warnings.filterwarnings('ignore')\n",
    "%matplotlib inline\n",
    "plt.rcParams['figure.dpi'] = 100\n",
    "plt.rcParams['axes.grid'] = True"
   ]
  },
  {
   "cell_type": "code",
   "execution_count": 2,
   "id": "55c693ba",
   "metadata": {},
   "outputs": [],
   "source": [
    "def median(lst):\n",
    "    return np.median(np.array(lts))"
   ]
  },
  {
   "cell_type": "code",
   "execution_count": 3,
   "id": "33ddeb9a",
   "metadata": {},
   "outputs": [],
   "source": [
    "df = pd.read_csv('Wholesale customers data.csv')"
   ]
  },
  {
   "cell_type": "code",
   "execution_count": 4,
   "id": "95850a69",
   "metadata": {},
   "outputs": [
    {
     "data": {
      "text/html": [
       "<div>\n",
       "<style scoped>\n",
       "    .dataframe tbody tr th:only-of-type {\n",
       "        vertical-align: middle;\n",
       "    }\n",
       "\n",
       "    .dataframe tbody tr th {\n",
       "        vertical-align: top;\n",
       "    }\n",
       "\n",
       "    .dataframe thead th {\n",
       "        text-align: right;\n",
       "    }\n",
       "</style>\n",
       "<table border=\"1\" class=\"dataframe\">\n",
       "  <thead>\n",
       "    <tr style=\"text-align: right;\">\n",
       "      <th></th>\n",
       "      <th>Channel</th>\n",
       "      <th>Region</th>\n",
       "      <th>Fresh</th>\n",
       "      <th>Milk</th>\n",
       "      <th>Grocery</th>\n",
       "      <th>Frozen</th>\n",
       "      <th>Detergents_Paper</th>\n",
       "      <th>Delicassen</th>\n",
       "    </tr>\n",
       "  </thead>\n",
       "  <tbody>\n",
       "    <tr>\n",
       "      <th>0</th>\n",
       "      <td>2</td>\n",
       "      <td>3</td>\n",
       "      <td>12669</td>\n",
       "      <td>9656</td>\n",
       "      <td>7561</td>\n",
       "      <td>214</td>\n",
       "      <td>2674</td>\n",
       "      <td>1338</td>\n",
       "    </tr>\n",
       "    <tr>\n",
       "      <th>1</th>\n",
       "      <td>2</td>\n",
       "      <td>3</td>\n",
       "      <td>7057</td>\n",
       "      <td>9810</td>\n",
       "      <td>9568</td>\n",
       "      <td>1762</td>\n",
       "      <td>3293</td>\n",
       "      <td>1776</td>\n",
       "    </tr>\n",
       "    <tr>\n",
       "      <th>2</th>\n",
       "      <td>2</td>\n",
       "      <td>3</td>\n",
       "      <td>6353</td>\n",
       "      <td>8808</td>\n",
       "      <td>7684</td>\n",
       "      <td>2405</td>\n",
       "      <td>3516</td>\n",
       "      <td>7844</td>\n",
       "    </tr>\n",
       "    <tr>\n",
       "      <th>3</th>\n",
       "      <td>1</td>\n",
       "      <td>3</td>\n",
       "      <td>13265</td>\n",
       "      <td>1196</td>\n",
       "      <td>4221</td>\n",
       "      <td>6404</td>\n",
       "      <td>507</td>\n",
       "      <td>1788</td>\n",
       "    </tr>\n",
       "    <tr>\n",
       "      <th>4</th>\n",
       "      <td>2</td>\n",
       "      <td>3</td>\n",
       "      <td>22615</td>\n",
       "      <td>5410</td>\n",
       "      <td>7198</td>\n",
       "      <td>3915</td>\n",
       "      <td>1777</td>\n",
       "      <td>5185</td>\n",
       "    </tr>\n",
       "  </tbody>\n",
       "</table>\n",
       "</div>"
      ],
      "text/plain": [
       "   Channel  Region  Fresh  Milk  Grocery  Frozen  Detergents_Paper  Delicassen\n",
       "0        2       3  12669  9656     7561     214              2674        1338\n",
       "1        2       3   7057  9810     9568    1762              3293        1776\n",
       "2        2       3   6353  8808     7684    2405              3516        7844\n",
       "3        1       3  13265  1196     4221    6404               507        1788\n",
       "4        2       3  22615  5410     7198    3915              1777        5185"
      ]
     },
     "execution_count": 4,
     "metadata": {},
     "output_type": "execute_result"
    }
   ],
   "source": [
    "df.head()"
   ]
  },
  {
   "cell_type": "code",
   "execution_count": 5,
   "id": "d79e008d",
   "metadata": {},
   "outputs": [
    {
     "data": {
      "text/html": [
       "<div>\n",
       "<style scoped>\n",
       "    .dataframe tbody tr th:only-of-type {\n",
       "        vertical-align: middle;\n",
       "    }\n",
       "\n",
       "    .dataframe tbody tr th {\n",
       "        vertical-align: top;\n",
       "    }\n",
       "\n",
       "    .dataframe thead th {\n",
       "        text-align: right;\n",
       "    }\n",
       "</style>\n",
       "<table border=\"1\" class=\"dataframe\">\n",
       "  <thead>\n",
       "    <tr style=\"text-align: right;\">\n",
       "      <th></th>\n",
       "      <th>Channel</th>\n",
       "      <th>Region</th>\n",
       "      <th>Fresh</th>\n",
       "      <th>Milk</th>\n",
       "      <th>Grocery</th>\n",
       "      <th>Frozen</th>\n",
       "      <th>Detergents_Paper</th>\n",
       "      <th>Delicassen</th>\n",
       "    </tr>\n",
       "  </thead>\n",
       "  <tbody>\n",
       "    <tr>\n",
       "      <th>count</th>\n",
       "      <td>440.000000</td>\n",
       "      <td>440.000000</td>\n",
       "      <td>440.000000</td>\n",
       "      <td>440.000000</td>\n",
       "      <td>440.000000</td>\n",
       "      <td>440.000000</td>\n",
       "      <td>440.000000</td>\n",
       "      <td>440.000000</td>\n",
       "    </tr>\n",
       "    <tr>\n",
       "      <th>mean</th>\n",
       "      <td>1.322727</td>\n",
       "      <td>2.543182</td>\n",
       "      <td>12000.297727</td>\n",
       "      <td>5796.265909</td>\n",
       "      <td>7951.277273</td>\n",
       "      <td>3071.931818</td>\n",
       "      <td>2881.493182</td>\n",
       "      <td>1524.870455</td>\n",
       "    </tr>\n",
       "    <tr>\n",
       "      <th>std</th>\n",
       "      <td>0.468052</td>\n",
       "      <td>0.774272</td>\n",
       "      <td>12647.328865</td>\n",
       "      <td>7380.377175</td>\n",
       "      <td>9503.162829</td>\n",
       "      <td>4854.673333</td>\n",
       "      <td>4767.854448</td>\n",
       "      <td>2820.105937</td>\n",
       "    </tr>\n",
       "    <tr>\n",
       "      <th>min</th>\n",
       "      <td>1.000000</td>\n",
       "      <td>1.000000</td>\n",
       "      <td>3.000000</td>\n",
       "      <td>55.000000</td>\n",
       "      <td>3.000000</td>\n",
       "      <td>25.000000</td>\n",
       "      <td>3.000000</td>\n",
       "      <td>3.000000</td>\n",
       "    </tr>\n",
       "    <tr>\n",
       "      <th>25%</th>\n",
       "      <td>1.000000</td>\n",
       "      <td>2.000000</td>\n",
       "      <td>3127.750000</td>\n",
       "      <td>1533.000000</td>\n",
       "      <td>2153.000000</td>\n",
       "      <td>742.250000</td>\n",
       "      <td>256.750000</td>\n",
       "      <td>408.250000</td>\n",
       "    </tr>\n",
       "    <tr>\n",
       "      <th>50%</th>\n",
       "      <td>1.000000</td>\n",
       "      <td>3.000000</td>\n",
       "      <td>8504.000000</td>\n",
       "      <td>3627.000000</td>\n",
       "      <td>4755.500000</td>\n",
       "      <td>1526.000000</td>\n",
       "      <td>816.500000</td>\n",
       "      <td>965.500000</td>\n",
       "    </tr>\n",
       "    <tr>\n",
       "      <th>75%</th>\n",
       "      <td>2.000000</td>\n",
       "      <td>3.000000</td>\n",
       "      <td>16933.750000</td>\n",
       "      <td>7190.250000</td>\n",
       "      <td>10655.750000</td>\n",
       "      <td>3554.250000</td>\n",
       "      <td>3922.000000</td>\n",
       "      <td>1820.250000</td>\n",
       "    </tr>\n",
       "    <tr>\n",
       "      <th>max</th>\n",
       "      <td>2.000000</td>\n",
       "      <td>3.000000</td>\n",
       "      <td>112151.000000</td>\n",
       "      <td>73498.000000</td>\n",
       "      <td>92780.000000</td>\n",
       "      <td>60869.000000</td>\n",
       "      <td>40827.000000</td>\n",
       "      <td>47943.000000</td>\n",
       "    </tr>\n",
       "  </tbody>\n",
       "</table>\n",
       "</div>"
      ],
      "text/plain": [
       "          Channel      Region          Fresh          Milk       Grocery  \\\n",
       "count  440.000000  440.000000     440.000000    440.000000    440.000000   \n",
       "mean     1.322727    2.543182   12000.297727   5796.265909   7951.277273   \n",
       "std      0.468052    0.774272   12647.328865   7380.377175   9503.162829   \n",
       "min      1.000000    1.000000       3.000000     55.000000      3.000000   \n",
       "25%      1.000000    2.000000    3127.750000   1533.000000   2153.000000   \n",
       "50%      1.000000    3.000000    8504.000000   3627.000000   4755.500000   \n",
       "75%      2.000000    3.000000   16933.750000   7190.250000  10655.750000   \n",
       "max      2.000000    3.000000  112151.000000  73498.000000  92780.000000   \n",
       "\n",
       "             Frozen  Detergents_Paper    Delicassen  \n",
       "count    440.000000        440.000000    440.000000  \n",
       "mean    3071.931818       2881.493182   1524.870455  \n",
       "std     4854.673333       4767.854448   2820.105937  \n",
       "min       25.000000          3.000000      3.000000  \n",
       "25%      742.250000        256.750000    408.250000  \n",
       "50%     1526.000000        816.500000    965.500000  \n",
       "75%     3554.250000       3922.000000   1820.250000  \n",
       "max    60869.000000      40827.000000  47943.000000  "
      ]
     },
     "execution_count": 5,
     "metadata": {},
     "output_type": "execute_result"
    }
   ],
   "source": [
    "df.describe()"
   ]
  },
  {
   "cell_type": "code",
   "execution_count": 6,
   "id": "cdf75a8e",
   "metadata": {},
   "outputs": [],
   "source": [
    "y_column = \"Milk\"\n",
    "y = df[y_column]\n",
    "\n",
    "X = df.drop(columns=[y_column, 'Channel', 'Region'])\n",
    "\n",
    "X_train, X_test, y_train, y_test = train_test_split(X, y,test_size=0.2,train_size=0.8)\n",
    "X_train, X_val, y_train, y_val = train_test_split(X , y,test_size = 0.25,train_size =0.75)"
   ]
  },
  {
   "cell_type": "code",
   "execution_count": 7,
   "id": "335c0510",
   "metadata": {},
   "outputs": [
    {
     "name": "stdout",
     "output_type": "stream",
     "text": [
      "Random: 0; accuracy: 0.0\n",
      "Random: 1; accuracy: 0.011363636363636364\n",
      "Random: 2; accuracy: 0.0\n",
      "Random: 3; accuracy: 0.0\n",
      "Random: 5; accuracy: 0.0\n"
     ]
    }
   ],
   "source": [
    "rs = np.linspace(0,5,num=5)\n",
    "acc_p = []\n",
    "acc_pn = []\n",
    "acc_mlp = []\n",
    "acc_mlpn = []\n",
    "\n",
    "for i in rs:\n",
    "    i = int(i)\n",
    "    clf = Perceptron(random_state=i, alpha=0.01, max_iter=2000)\n",
    "    clf.fit(X_train, y_train)\n",
    "    predictions = clf.predict(X_test)\n",
    "    acc = accuracy_score(y_test, predictions)\n",
    "    print(\"Random: {}; accuracy: {}\".format(i, acc))\n",
    "    acc_p.append(acc)\n",
    "\n",
    "    scaler = StandardScaler()\n",
    "    X_train_scaled = scaler.fit_transform(X_train)\n",
    "    X_test_scaled = scaler.transform(X_test)\n",
    "\n",
    "    clf = Perceptron(random_state=i, alpha=0.01, max_iter=2000)\n",
    "    clf.fit(X_train_scaled, y_train)\n",
    "    predictions = clf.predict(X_test_scaled)\n",
    "    acc = accuracy_score(y_test, predictions)\n",
    "    # print \"Perceptron with normalization: \", acc\n",
    "    acc_pn.append(acc)\n",
    "\n",
    "    mlp = MLPClassifier(random_state=i, solver=\"sgd\", activation=\"tanh\", alpha=0.01, hidden_layer_sizes=(20, ), max_iter=2000, tol=0.00000001)\n",
    "    mlp.fit(X_train_scaled, y_train)\n",
    "    predictions = mlp.predict(X_test)\n",
    "    acc = accuracy_score(y_test, predictions)\n",
    "    # print \"MLP: \",  acc\n",
    "    acc_mlp.append(acc)\n",
    "\n",
    "    mlp = MLPClassifier(random_state=i, solver=\"sgd\", activation=\"tanh\", alpha=0.01, hidden_layer_sizes=(130, 130, 130), max_iter=2000, tol=0.00000001)\n",
    "    mlp.fit(X_train_scaled, y_train)\n",
    "    predictions = mlp.predict(X_test_scaled)\n",
    "    acc = accuracy_score(y_test, predictions)\n",
    "    # print \"MLP: \",  acc\n",
    "    acc_mlpn.append(acc)"
   ]
  },
  {
   "cell_type": "code",
   "execution_count": 8,
   "id": "78501482",
   "metadata": {},
   "outputs": [
    {
     "name": "stdout",
     "output_type": "stream",
     "text": [
      "Perceptron:  0.0 0.0 0.011363636363636364 0.004545454545454545\n",
      "Perceptron with Norm:  0.011363636363636364 0.022727272727272728 0.045454545454545456 0.013252163397375684\n",
      "MLP:  0.011363636363636364 0.011363636363636364 0.022727272727272728 0.005567022142689042\n",
      "MLP with Norm:  0.11363636363636363 0.13636363636363635 0.13636363636363635 0.009090909090909087\n"
     ]
    }
   ],
   "source": [
    "print(\"Perceptron: \", min(acc_p), np.median(acc_p), max(acc_p), np.std(acc_p))\n",
    "print(\"Perceptron with Norm: \", min(acc_pn), np.median(acc_pn), max(acc_pn), np.std(acc_pn))\n",
    "print(\"MLP: \", min(acc_mlp), np.median(acc_mlp), max(acc_mlp), np.std(acc_mlp))\n",
    "print(\"MLP with Norm: \", min(acc_mlpn), np.median(acc_mlpn), max(acc_mlpn), np.std(acc_mlpn))"
   ]
  },
  {
   "cell_type": "code",
   "execution_count": 9,
   "id": "3efb722e",
   "metadata": {},
   "outputs": [],
   "source": [
    "sc=StandardScaler()\n",
    "\n",
    "scaler = sc.fit(X_train)\n",
    "X_train_scaled = scaler.transform(X_train)\n",
    "X_test_scaled = scaler.transform(X_test)"
   ]
  },
  {
   "cell_type": "code",
   "execution_count": 10,
   "id": "e8f752eb",
   "metadata": {},
   "outputs": [
    {
     "data": {
      "text/html": [
       "<style>#sk-container-id-1 {color: black;background-color: white;}#sk-container-id-1 pre{padding: 0;}#sk-container-id-1 div.sk-toggleable {background-color: white;}#sk-container-id-1 label.sk-toggleable__label {cursor: pointer;display: block;width: 100%;margin-bottom: 0;padding: 0.3em;box-sizing: border-box;text-align: center;}#sk-container-id-1 label.sk-toggleable__label-arrow:before {content: \"▸\";float: left;margin-right: 0.25em;color: #696969;}#sk-container-id-1 label.sk-toggleable__label-arrow:hover:before {color: black;}#sk-container-id-1 div.sk-estimator:hover label.sk-toggleable__label-arrow:before {color: black;}#sk-container-id-1 div.sk-toggleable__content {max-height: 0;max-width: 0;overflow: hidden;text-align: left;background-color: #f0f8ff;}#sk-container-id-1 div.sk-toggleable__content pre {margin: 0.2em;color: black;border-radius: 0.25em;background-color: #f0f8ff;}#sk-container-id-1 input.sk-toggleable__control:checked~div.sk-toggleable__content {max-height: 200px;max-width: 100%;overflow: auto;}#sk-container-id-1 input.sk-toggleable__control:checked~label.sk-toggleable__label-arrow:before {content: \"▾\";}#sk-container-id-1 div.sk-estimator input.sk-toggleable__control:checked~label.sk-toggleable__label {background-color: #d4ebff;}#sk-container-id-1 div.sk-label input.sk-toggleable__control:checked~label.sk-toggleable__label {background-color: #d4ebff;}#sk-container-id-1 input.sk-hidden--visually {border: 0;clip: rect(1px 1px 1px 1px);clip: rect(1px, 1px, 1px, 1px);height: 1px;margin: -1px;overflow: hidden;padding: 0;position: absolute;width: 1px;}#sk-container-id-1 div.sk-estimator {font-family: monospace;background-color: #f0f8ff;border: 1px dotted black;border-radius: 0.25em;box-sizing: border-box;margin-bottom: 0.5em;}#sk-container-id-1 div.sk-estimator:hover {background-color: #d4ebff;}#sk-container-id-1 div.sk-parallel-item::after {content: \"\";width: 100%;border-bottom: 1px solid gray;flex-grow: 1;}#sk-container-id-1 div.sk-label:hover label.sk-toggleable__label {background-color: #d4ebff;}#sk-container-id-1 div.sk-serial::before {content: \"\";position: absolute;border-left: 1px solid gray;box-sizing: border-box;top: 0;bottom: 0;left: 50%;z-index: 0;}#sk-container-id-1 div.sk-serial {display: flex;flex-direction: column;align-items: center;background-color: white;padding-right: 0.2em;padding-left: 0.2em;position: relative;}#sk-container-id-1 div.sk-item {position: relative;z-index: 1;}#sk-container-id-1 div.sk-parallel {display: flex;align-items: stretch;justify-content: center;background-color: white;position: relative;}#sk-container-id-1 div.sk-item::before, #sk-container-id-1 div.sk-parallel-item::before {content: \"\";position: absolute;border-left: 1px solid gray;box-sizing: border-box;top: 0;bottom: 0;left: 50%;z-index: -1;}#sk-container-id-1 div.sk-parallel-item {display: flex;flex-direction: column;z-index: 1;position: relative;background-color: white;}#sk-container-id-1 div.sk-parallel-item:first-child::after {align-self: flex-end;width: 50%;}#sk-container-id-1 div.sk-parallel-item:last-child::after {align-self: flex-start;width: 50%;}#sk-container-id-1 div.sk-parallel-item:only-child::after {width: 0;}#sk-container-id-1 div.sk-dashed-wrapped {border: 1px dashed gray;margin: 0 0.4em 0.5em 0.4em;box-sizing: border-box;padding-bottom: 0.4em;background-color: white;}#sk-container-id-1 div.sk-label label {font-family: monospace;font-weight: bold;display: inline-block;line-height: 1.2em;}#sk-container-id-1 div.sk-label-container {text-align: center;}#sk-container-id-1 div.sk-container {/* jupyter's `normalize.less` sets `[hidden] { display: none; }` but bootstrap.min.css set `[hidden] { display: none !important; }` so we also need the `!important` here to be able to override the default hidden behavior on the sphinx rendered scikit-learn.org. See: https://github.com/scikit-learn/scikit-learn/issues/21755 */display: inline-block !important;position: relative;}#sk-container-id-1 div.sk-text-repr-fallback {display: none;}</style><div id=\"sk-container-id-1\" class=\"sk-top-container\"><div class=\"sk-text-repr-fallback\"><pre>MLPClassifier(hidden_layer_sizes=(150, 100, 50), max_iter=2000)</pre><b>In a Jupyter environment, please rerun this cell to show the HTML representation or trust the notebook. <br />On GitHub, the HTML representation is unable to render, please try loading this page with nbviewer.org.</b></div><div class=\"sk-container\" hidden><div class=\"sk-item\"><div class=\"sk-estimator sk-toggleable\"><input class=\"sk-toggleable__control sk-hidden--visually\" id=\"sk-estimator-id-1\" type=\"checkbox\" checked><label for=\"sk-estimator-id-1\" class=\"sk-toggleable__label sk-toggleable__label-arrow\">MLPClassifier</label><div class=\"sk-toggleable__content\"><pre>MLPClassifier(hidden_layer_sizes=(150, 100, 50), max_iter=2000)</pre></div></div></div></div></div>"
      ],
      "text/plain": [
       "MLPClassifier(hidden_layer_sizes=(150, 100, 50), max_iter=2000)"
      ]
     },
     "execution_count": 10,
     "metadata": {},
     "output_type": "execute_result"
    }
   ],
   "source": [
    "mlp_clf = MLPClassifier(hidden_layer_sizes=(150,100,50),\n",
    "                        max_iter = 2000,activation = 'relu',\n",
    "                        solver = 'adam')\n",
    "mlp_clf.fit(X_train_scaled, y_train)"
   ]
  },
  {
   "cell_type": "code",
   "execution_count": 11,
   "id": "0843faa7",
   "metadata": {},
   "outputs": [
    {
     "name": "stdout",
     "output_type": "stream",
     "text": [
      "Accuracy: 0.72\n"
     ]
    }
   ],
   "source": [
    "y_pred = mlp_clf.predict(X_test_scaled)\n",
    "\n",
    "print('Accuracy: {:.2f}'.format(accuracy_score(y_test, y_pred)))"
   ]
  },
  {
   "cell_type": "code",
   "execution_count": 12,
   "id": "50215a83",
   "metadata": {
    "scrolled": false
   },
   "outputs": [
    {
     "name": "stdout",
     "output_type": "stream",
     "text": [
      "              precision    recall  f1-score   support\n",
      "\n",
      "         337       0.00      0.00      0.00         1\n",
      "         489       0.00      0.00      0.00         1\n",
      "         540       0.00      0.00      0.00         0\n",
      "         640       1.00      1.00      1.00         1\n",
      "         659       0.00      0.00      0.00         0\n",
      "         735       1.00      1.00      1.00         1\n",
      "         780       0.00      0.00      0.00         0\n",
      "         793       0.00      0.00      0.00         0\n",
      "         829       1.00      1.00      1.00         1\n",
      "         865       1.00      1.00      1.00         1\n",
      "         873       1.00      1.00      1.00         1\n",
      "         926       0.00      0.00      0.00         1\n",
      "         944       0.00      0.00      0.00         0\n",
      "         961       1.00      1.00      1.00         1\n",
      "        1110       1.00      1.00      1.00         1\n",
      "        1115       1.00      1.00      1.00         1\n",
      "        1124       1.00      1.00      1.00         1\n",
      "        1175       1.00      1.00      1.00         1\n",
      "        1208       1.00      1.00      1.00         1\n",
      "        1347       1.00      1.00      1.00         1\n",
      "        1366       0.00      0.00      0.00         1\n",
      "        1511       1.00      1.00      1.00         1\n",
      "        1750       1.00      1.00      1.00         1\n",
      "        1795       1.00      1.00      1.00         1\n",
      "        1882       0.00      0.00      0.00         1\n",
      "        1936       0.00      0.00      0.00         0\n",
      "        1979       1.00      1.00      1.00         1\n",
      "        1981       0.00      0.00      0.00         1\n",
      "        2024       0.00      0.00      0.00         1\n",
      "        2344       1.00      1.00      1.00         1\n",
      "        2408       1.00      1.00      1.00         1\n",
      "        2602       0.00      0.00      0.00         1\n",
      "        2616       0.00      0.00      0.00         0\n",
      "        2746       1.00      1.00      1.00         1\n",
      "        2761       1.00      1.00      1.00         1\n",
      "        2801       1.00      1.00      1.00         1\n",
      "        2872       1.00      1.00      1.00         1\n",
      "        3045       1.00      1.00      1.00         1\n",
      "        3088       0.00      0.00      0.00         1\n",
      "        3090       0.00      0.00      0.00         1\n",
      "        3154       0.00      0.00      0.00         0\n",
      "        3218       0.00      0.00      0.00         0\n",
      "        3259       0.00      0.00      0.00         0\n",
      "        3327       1.00      1.00      1.00         1\n",
      "        3473       0.00      0.00      0.00         1\n",
      "        3504       1.00      1.00      1.00         1\n",
      "        3575       0.00      0.00      0.00         1\n",
      "        3605       1.00      1.00      1.00         1\n",
      "        3801       1.00      1.00      1.00         1\n",
      "        3838       1.00      1.00      1.00         1\n",
      "        3880       1.00      1.00      1.00         1\n",
      "        4753       1.00      1.00      1.00         1\n",
      "        4859       0.00      0.00      0.00         1\n",
      "        4885       1.00      1.00      1.00         1\n",
      "        4980       1.00      1.00      1.00         1\n",
      "        5007       0.00      0.00      0.00         1\n",
      "        5139       1.00      1.00      1.00         1\n",
      "        5332       0.00      0.00      0.00         1\n",
      "        5360       0.00      0.00      0.00         1\n",
      "        5410       1.00      1.00      1.00         1\n",
      "        5479       0.00      0.00      0.00         1\n",
      "        5491       1.00      1.00      1.00         1\n",
      "        5499       0.00      0.00      0.00         0\n",
      "        5506       0.00      0.00      0.00         0\n",
      "        5758       0.00      0.00      0.00         0\n",
      "        6036       0.00      0.00      0.00         1\n",
      "        6152       1.00      1.00      1.00         1\n",
      "        6154       1.00      1.00      1.00         1\n",
      "        6208       0.00      0.00      0.00         0\n",
      "        6250       1.00      1.00      1.00         1\n",
      "        6264       0.00      0.00      0.00         1\n",
      "        6448       1.00      1.00      1.00         1\n",
      "        6570       1.00      1.00      1.00         1\n",
      "        6602       1.00      1.00      1.00         1\n",
      "        6730       1.00      1.00      1.00         1\n",
      "        6759       1.00      1.00      1.00         1\n",
      "        6817       0.00      0.00      0.00         0\n",
      "        6939       1.00      1.00      1.00         1\n",
      "        6958       0.50      1.00      0.67         1\n",
      "        7075       1.00      1.00      1.00         1\n",
      "        7108       0.00      0.00      0.00         0\n",
      "        7152       1.00      1.00      1.00         1\n",
      "        7243       1.00      1.00      1.00         1\n",
      "        7603       1.00      1.00      1.00         1\n",
      "        7704       1.00      1.00      1.00         1\n",
      "        7961       0.00      0.00      0.00         1\n",
      "        8259       1.00      1.00      1.00         1\n",
      "        8384       0.00      0.00      0.00         1\n",
      "        8397       0.00      0.00      0.00         1\n",
      "        8494       0.00      0.00      0.00         0\n",
      "        8847       1.00      1.00      1.00         1\n",
      "        9347       0.00      0.00      0.00         0\n",
      "       10646       0.00      0.00      0.00         1\n",
      "       11114       1.00      1.00      1.00         1\n",
      "       11601       0.00      0.00      0.00         0\n",
      "       11711       1.00      1.00      1.00         1\n",
      "       11991       1.00      1.00      1.00         1\n",
      "       12220       1.00      1.00      1.00         1\n",
      "       12867       1.00      1.00      1.00         1\n",
      "       12939       1.00      1.00      1.00         1\n",
      "       13240       1.00      1.00      1.00         1\n",
      "       14399       1.00      1.00      1.00         1\n",
      "       16687       0.00      0.00      0.00         0\n",
      "       16784       0.00      0.00      0.00         1\n",
      "       17972       1.00      1.00      1.00         1\n",
      "       27472       1.00      1.00      1.00         1\n",
      "       29627       1.00      1.00      1.00         1\n",
      "       38369       0.00      0.00      0.00         1\n",
      "\n",
      "    accuracy                           0.72        88\n",
      "   macro avg       0.58      0.58      0.58        88\n",
      "weighted avg       0.71      0.72      0.71        88\n",
      "\n"
     ]
    }
   ],
   "source": [
    "print(classification_report(y_test, y_pred))"
   ]
  },
  {
   "cell_type": "code",
   "execution_count": 13,
   "id": "b64c2faa",
   "metadata": {},
   "outputs": [
    {
     "data": {
      "image/png": "[encoded data removed]",
      "text/plain": [
       "<Figure size 640x480 with 1 Axes>"
      ]
     },
     "metadata": {},
     "output_type": "display_data"
    }
   ],
   "source": [
    "plt.plot(mlp_clf.loss_curve_)\n",
    "plt.title(\"Loss Curve\", fontsize=14)\n",
    "plt.xlabel('Iterations')\n",
    "plt.ylabel('Cost')\n",
    "plt.show()"
   ]
  },
  {
   "cell_type": "code",
   "execution_count": 14,
   "id": "71ce1fd7",
   "metadata": {},
   "outputs": [],
   "source": [
    "param_grid = {\n",
    "    'hidden_layer_sizes': [(150,100,50), (120,80,40), (100,50,30)],\n",
    "    'max_iter': [50, 100, 150],\n",
    "    'activation': ['relu', 'tanh', 'logistic', 'identity'],\n",
    "    'solver': ['adam', 'sgd', 'lbfgs'],\n",
    "    'alpha': [0.0001, 0.05],\n",
    "    'learning_rate': ['constant', 'adaptive', 'invscaling'],\n",
    "}"
   ]
  },
  {
   "cell_type": "code",
   "execution_count": 15,
   "id": "a74fdcaf",
   "metadata": {},
   "outputs": [
    {
     "name": "stdout",
     "output_type": "stream",
     "text": [
      "{'activation': 'relu', 'alpha': 0.0001, 'hidden_layer_sizes': (150, 100, 50), 'learning_rate': 'constant', 'max_iter': 150, 'solver': 'lbfgs'}\n"
     ]
    }
   ],
   "source": [
    "grid = GridSearchCV(mlp_clf, param_grid, n_jobs= -1, cv=2)\n",
    "grid.fit(X_train_scaled, y_train)\n",
    "\n",
    "print(grid.best_params_) "
   ]
  },
  {
   "cell_type": "code",
   "execution_count": 16,
   "id": "87666a48",
   "metadata": {},
   "outputs": [
    {
     "name": "stdout",
     "output_type": "stream",
     "text": [
      "Accuracy: 0.72\n"
     ]
    }
   ],
   "source": [
    "grid_predictions = grid.predict(X_test_scaled) \n",
    "\n",
    "print('Accuracy: {:.2f}'.format(accuracy_score(y_test, grid_predictions)))"
   ]
  }
 ],
 "metadata": {
  "kernelspec": {
   "display_name": "Python 3 (ipykernel)",
   "language": "python",
   "name": "python3"
  },
  "language_info": {
   "codemirror_mode": {
    "name": "ipython",
    "version": 3
   },
   "file_extension": ".py",
   "mimetype": "text/x-python",
   "name": "python",
   "nbconvert_exporter": "python",
   "pygments_lexer": "ipython3",
   "version": "3.10.7"
  }
 },
 "nbformat": 4,
 "nbformat_minor": 5
}
